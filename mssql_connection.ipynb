{
 "cells": [
  {
   "cell_type": "code",
   "execution_count": 1,
   "metadata": {},
   "outputs": [],
   "source": [
    "import pandas as pd\n",
    "import seaborn as sea\n",
    "from sqlalchemy import create_engine\n",
    "import sqlite3"
   ]
  },
  {
   "cell_type": "code",
   "execution_count": 7,
   "metadata": {},
   "outputs": [],
   "source": [
    "# conn = sqlite3.connect('./webscrape.sqlite3')"
   ]
  },
  {
   "cell_type": "code",
   "execution_count": 2,
   "metadata": {},
   "outputs": [],
   "source": [
    "# Connect to SQL Sever 2019\n",
    "SERVER = 'LAPTOP-QFUJTI9Q\\SQLEXPRESS'\n",
    "DATABASE = 'elonmusk'\n",
    "DRIVER = 'SQL Server Native Client 11.0'\n",
    "USERNAME = 'davidj'\n",
    "PASSWORD = 'dJj135790'\n",
    "DATABASE_CONNECTION = f'mssql://{USERNAME}:{PASSWORD}@{SERVER}/{DATABASE}?driver={DRIVER}'\n",
    "\n",
    "engine = create_engine(DATABASE_CONNECTION)\n",
    "connection = engine.connect()\n"
   ]
  },
  {
   "cell_type": "code",
   "execution_count": 4,
   "metadata": {},
   "outputs": [],
   "source": [
    "# Pull Elon Musk's Mentions from SQLite3\n",
    "\n",
    "elon_mentions = pd.read_sql_query('select * from elonMentions', connection)"
   ]
  },
  {
   "cell_type": "code",
   "execution_count": 16,
   "metadata": {},
   "outputs": [],
   "source": [
    "\"\"\" import string\n",
    "punct = string.punctuation\n",
    "def remove_punct(x):\n",
    "    return x.translate(str.maketrans(\"\",\"\", punct))\n",
    "\n",
    "    elon_mentions['content'] = elon_mentions['content'].apply(lambda x: remove_punct(x)) \"\"\""
   ]
  },
  {
   "cell_type": "code",
   "execution_count": null,
   "metadata": {},
   "outputs": [],
   "source": [
    "\"\"\" import re\n",
    "re.sub(pattern = \"[^\\W\\S]\",\n",
    "    repl = \" \", \n",
    "    string = elon_mentions['content'] ) \"\"\""
   ]
  },
  {
   "cell_type": "code",
   "execution_count": 30,
   "metadata": {},
   "outputs": [],
   "source": [
    "\"\"\" import string\n",
    "def remove_punctuation(txt):\n",
    "    txt_nopunct = [ c for c in txt if c not in string.punctuation]\n",
    "    return txt_nopunct \n",
    " \"\"\""
   ]
  },
  {
   "cell_type": "code",
   "execution_count": 31,
   "metadata": {},
   "outputs": [],
   "source": [
    "# elon_mentions['clean_content'] = elon_mentions['content'].apply(lambda x: remove_punctuation(x))"
   ]
  },
  {
   "cell_type": "code",
   "execution_count": 5,
   "metadata": {},
   "outputs": [
    {
     "data": {
      "text/plain": [
       "0    11/30/2022 comingtoamerica age 40 princewillia...\n",
       "1    timcook dogwalked elonmusk around apple campus...\n",
       "2    elonmusk make twitter great again twitter elon...\n",
       "3    dcenquirer dineshdsouza became clear twitter o...\n",
       "4    elon musk makes final push end https //t co/5m...\n",
       "Name: content, dtype: object"
      ]
     },
     "execution_count": 5,
     "metadata": {},
     "output_type": "execute_result"
    }
   ],
   "source": [
    "elon_mentions['content'].head()"
   ]
  },
  {
   "cell_type": "code",
   "execution_count": null,
   "metadata": {},
   "outputs": [],
   "source": [
    "# Upload cleaner tweet to SQL Server\n",
    "elon_mentions.to_sql(name =\"elonMentions\",con=connection,if_exists='replace',index = False)"
   ]
  },
  {
   "cell_type": "code",
   "execution_count": null,
   "metadata": {},
   "outputs": [],
   "source": []
  },
  {
   "cell_type": "code",
   "execution_count": 14,
   "metadata": {},
   "outputs": [],
   "source": [
    "# Download mentions from SQL Server\n",
    "elon_mentions= pd.read_sql_query(\"select * from elonMentions \", connection)"
   ]
  },
  {
   "cell_type": "code",
   "execution_count": null,
   "metadata": {},
   "outputs": [],
   "source": []
  },
  {
   "cell_type": "code",
   "execution_count": 15,
   "metadata": {},
   "outputs": [
    {
     "data": {
      "text/plain": [
       "25002"
      ]
     },
     "execution_count": 15,
     "metadata": {},
     "output_type": "execute_result"
    }
   ],
   "source": []
  }
 ],
 "metadata": {
  "kernelspec": {
   "display_name": "Python 3.10.8 64-bit",
   "language": "python",
   "name": "python3"
  },
  "language_info": {
   "codemirror_mode": {
    "name": "ipython",
    "version": 3
   },
   "file_extension": ".py",
   "mimetype": "text/x-python",
   "name": "python",
   "nbconvert_exporter": "python",
   "pygments_lexer": "ipython3",
   "version": "3.10.8"
  },
  "orig_nbformat": 4,
  "vscode": {
   "interpreter": {
    "hash": "607db476e417971f05b607c2dd14e77ee8262c2c4c20dea422522c60605a222a"
   }
  }
 },
 "nbformat": 4,
 "nbformat_minor": 2
}
