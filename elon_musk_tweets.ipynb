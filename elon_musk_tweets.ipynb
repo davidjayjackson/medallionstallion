{
 "cells": [
  {
   "cell_type": "code",
   "execution_count": 1,
   "metadata": {},
   "outputs": [],
   "source": [
    "import pyodbc\n",
    "import pandas as pd\n",
    "from tqdm import tqdm\n",
    "import snscrape.modules.twitter as sntwitter\n",
    "import sqlite3"
   ]
  },
  {
   "cell_type": "code",
   "execution_count": 2,
   "metadata": {},
   "outputs": [
    {
     "data": {
      "text/plain": [
       "' conn = pyodbc.connect(\\n    \"Driver ={SQL Server Native Client 11.0};\"\\n    \"Server = LAPTOP-QFUJTI9Q\\\\SQLEXPRESS;\"\\n    \"Database =Twitter;\"\\n    \"Trusted_Connection = yes;\"\\n) '"
      ]
     },
     "execution_count": 2,
     "metadata": {},
     "output_type": "execute_result"
    }
   ],
   "source": [
    "\"\"\" conn = pyodbc.connect(\n",
    "    \"Driver ={SQL Server Native Client 11.0};\"\n",
    "    \"Server = LAPTOP-QFUJTI9Q\\SQLEXPRESS;\"\n",
    "    \"Database =Twitter;\"\n",
    "    \"Trusted_Connection = yes;\"\n",
    ") \"\"\""
   ]
  },
  {
   "cell_type": "code",
   "execution_count": 13,
   "metadata": {},
   "outputs": [],
   "source": [
    "# Pull tweet that Elon Posted\n",
    "scraper = sntwitter.TwitterUserScraper(\"elonmusk\")\n",
    "for tweet in scraper.get_items():\n",
    "    break"
   ]
  },
  {
   "cell_type": "code",
   "execution_count": null,
   "metadata": {},
   "outputs": [],
   "source": [
    "tweet"
   ]
  },
  {
   "cell_type": "code",
   "execution_count": 14,
   "metadata": {},
   "outputs": [],
   "source": [
    "tweets = []"
   ]
  },
  {
   "cell_type": "markdown",
   "metadata": {},
   "source": [
    "### Pulling Elon Musk's (@elonmusk) Tweets"
   ]
  },
  {
   "cell_type": "code",
   "execution_count": 15,
   "metadata": {},
   "outputs": [
    {
     "name": "stderr",
     "output_type": "stream",
     "text": [
      "18401it [05:07, 59.90it/s]                           \n"
     ]
    }
   ],
   "source": [
    "# Pull chokes at around 18400??\n",
    "\n",
    "n_tweets = 18400\n",
    "for i,  tweet in tqdm(enumerate(scraper.get_items()),total=n_tweets):\n",
    "        data = [\n",
    "                tweet.date,\n",
    "                tweet.id,\n",
    "                tweet.content,\n",
    "                tweet.user.username,\n",
    "                tweet.likeCount,\n",
    "                tweet.retweetCount,\n",
    "        ]\n",
    "\n",
    "        tweets.append(data)\n",
    "        if i >n_tweets:\n",
    "                break"
   ]
  },
  {
   "cell_type": "code",
   "execution_count": 16,
   "metadata": {},
   "outputs": [
    {
     "data": {
      "text/plain": [
       "18402"
      ]
     },
     "execution_count": 16,
     "metadata": {},
     "output_type": "execute_result"
    }
   ],
   "source": [
    "len(tweets)"
   ]
  },
  {
   "cell_type": "code",
   "execution_count": 17,
   "metadata": {},
   "outputs": [],
   "source": [
    "tweet_df = pd.DataFrame(\n",
    "    tweets, columns=[\"date\",\"id\",\"content\",\"username\",\"like_count\",\"retweet_count\"]\n",
    ")"
   ]
  },
  {
   "cell_type": "code",
   "execution_count": 18,
   "metadata": {},
   "outputs": [
    {
     "data": {
      "text/html": [
       "<div>\n",
       "<style scoped>\n",
       "    .dataframe tbody tr th:only-of-type {\n",
       "        vertical-align: middle;\n",
       "    }\n",
       "\n",
       "    .dataframe tbody tr th {\n",
       "        vertical-align: top;\n",
       "    }\n",
       "\n",
       "    .dataframe thead th {\n",
       "        text-align: right;\n",
       "    }\n",
       "</style>\n",
       "<table border=\"1\" class=\"dataframe\">\n",
       "  <thead>\n",
       "    <tr style=\"text-align: right;\">\n",
       "      <th></th>\n",
       "      <th>date</th>\n",
       "      <th>id</th>\n",
       "      <th>content</th>\n",
       "      <th>username</th>\n",
       "      <th>like_count</th>\n",
       "      <th>retweet_count</th>\n",
       "    </tr>\n",
       "  </thead>\n",
       "  <tbody>\n",
       "    <tr>\n",
       "      <th>0</th>\n",
       "      <td>2022-12-01 21:10:08+00:00</td>\n",
       "      <td>1598424232253218816</td>\n",
       "      <td>@kanyewest Jesus taught love, kindness and for...</td>\n",
       "      <td>elonmusk</td>\n",
       "      <td>136848</td>\n",
       "      <td>14782</td>\n",
       "    </tr>\n",
       "    <tr>\n",
       "      <th>1</th>\n",
       "      <td>2022-12-01 20:55:14+00:00</td>\n",
       "      <td>1598420481769512960</td>\n",
       "      <td>🇯🇵🇯🇵 Congratulations Japan! 🇯🇵🇯🇵\\nhttps://t.co...</td>\n",
       "      <td>elonmusk</td>\n",
       "      <td>429944</td>\n",
       "      <td>60806</td>\n",
       "    </tr>\n",
       "  </tbody>\n",
       "</table>\n",
       "</div>"
      ],
      "text/plain": [
       "                       date                   id  \\\n",
       "0 2022-12-01 21:10:08+00:00  1598424232253218816   \n",
       "1 2022-12-01 20:55:14+00:00  1598420481769512960   \n",
       "\n",
       "                                             content  username  like_count  \\\n",
       "0  @kanyewest Jesus taught love, kindness and for...  elonmusk      136848   \n",
       "1  🇯🇵🇯🇵 Congratulations Japan! 🇯🇵🇯🇵\\nhttps://t.co...  elonmusk      429944   \n",
       "\n",
       "   retweet_count  \n",
       "0          14782  \n",
       "1          60806  "
      ]
     },
     "execution_count": 18,
     "metadata": {},
     "output_type": "execute_result"
    }
   ],
   "source": [
    "tweet_df.head(2)"
   ]
  },
  {
   "cell_type": "markdown",
   "metadata": {},
   "source": [
    "#### Begin SQLite3  Fun"
   ]
  },
  {
   "cell_type": "code",
   "execution_count": 19,
   "metadata": {},
   "outputs": [],
   "source": [
    "conn = sqlite3.connect('./webscrape.sqlite3')\n",
    "## cursor = conn.cursor()"
   ]
  },
  {
   "cell_type": "code",
   "execution_count": 20,
   "metadata": {},
   "outputs": [
    {
     "data": {
      "text/plain": [
       "18402"
      ]
     },
     "execution_count": 20,
     "metadata": {},
     "output_type": "execute_result"
    }
   ],
   "source": [
    "tweet_df.to_sql(name =\"elonTweets\",con=conn,if_exists='replace',index = False)"
   ]
  },
  {
   "cell_type": "code",
   "execution_count": 21,
   "metadata": {},
   "outputs": [],
   "source": [
    "tweet_df.to_csv(\"./elonTweets.csv\")"
   ]
  }
 ],
 "metadata": {
  "kernelspec": {
   "display_name": "Python 3.10.5 64-bit",
   "language": "python",
   "name": "python3"
  },
  "language_info": {
   "codemirror_mode": {
    "name": "ipython",
    "version": 3
   },
   "file_extension": ".py",
   "mimetype": "text/x-python",
   "name": "python",
   "nbconvert_exporter": "python",
   "pygments_lexer": "ipython3",
   "version": "3.10.8"
  },
  "orig_nbformat": 4,
  "vscode": {
   "interpreter": {
    "hash": "607db476e417971f05b607c2dd14e77ee8262c2c4c20dea422522c60605a222a"
   }
  }
 },
 "nbformat": 4,
 "nbformat_minor": 2
}
