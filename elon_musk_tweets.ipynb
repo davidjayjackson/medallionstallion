{
 "cells": [
  {
   "cell_type": "code",
   "execution_count": 1,
   "metadata": {},
   "outputs": [],
   "source": [
    "import pyodbc\n",
    "import pandas as pd\n",
    "from tqdm import tqdm\n",
    "import snscrape.modules.twitter as sntwitter\n",
    "import sqlite3\n",
    "import seaborn as sea\n",
    "from sqlalchemy import create_engine"
   ]
  },
  {
   "cell_type": "code",
   "execution_count": 13,
   "metadata": {},
   "outputs": [],
   "source": [
    "# Pull tweet that Elon Posted\n",
    "scraper = sntwitter.TwitterUserScraper(\"elonmusk\")\n",
    "for tweet in scraper.get_items():\n",
    "    break"
   ]
  },
  {
   "cell_type": "code",
   "execution_count": null,
   "metadata": {},
   "outputs": [],
   "source": [
    "tweet"
   ]
  },
  {
   "cell_type": "code",
   "execution_count": 14,
   "metadata": {},
   "outputs": [],
   "source": [
    "tweets = []"
   ]
  },
  {
   "cell_type": "markdown",
   "metadata": {},
   "source": [
    "### Pulling Elon Musk's (@elonmusk) Tweets"
   ]
  },
  {
   "cell_type": "code",
   "execution_count": 15,
   "metadata": {},
   "outputs": [
    {
     "name": "stderr",
     "output_type": "stream",
     "text": [
      "18401it [05:07, 59.90it/s]                           \n"
     ]
    }
   ],
   "source": [
    "# Pull chokes at around 18400??\n",
    "\n",
    "n_tweets = 18400\n",
    "for i,  tweet in tqdm(enumerate(scraper.get_items()),total=n_tweets):\n",
    "        data = [\n",
    "                tweet.date,\n",
    "                tweet.id,\n",
    "                tweet.content,\n",
    "                tweet.user.username,\n",
    "                tweet.likeCount,\n",
    "                tweet.retweetCount,\n",
    "        ]\n",
    "\n",
    "        tweets.append(data)\n",
    "        if i >n_tweets:\n",
    "                break"
   ]
  },
  {
   "cell_type": "code",
   "execution_count": null,
   "metadata": {},
   "outputs": [],
   "source": [
    "len(tweets)"
   ]
  },
  {
   "cell_type": "code",
   "execution_count": 17,
   "metadata": {},
   "outputs": [],
   "source": [
    "tweet_df = pd.DataFrame(\n",
    "    tweets, columns=[\"date\",\"id\",\"content\",\"username\",\"like_count\",\"retweet_count\"]\n",
    ")"
   ]
  },
  {
   "cell_type": "code",
   "execution_count": null,
   "metadata": {},
   "outputs": [],
   "source": [
    "tweet_df.head(2)"
   ]
  },
  {
   "cell_type": "markdown",
   "metadata": {},
   "source": [
    "#### Begin Upload to SQL Server"
   ]
  },
  {
   "cell_type": "code",
   "execution_count": 19,
   "metadata": {},
   "outputs": [],
   "source": [
    "SERVER = 'LAPTOP-QFUJTI9Q\\SQLEXPRESS'\n",
    "DATABASE = 'elonmusk'\n",
    "DRIVER = 'SQL Server Native Client 11.0'\n",
    "USERNAME = 'davidj'\n",
    "PASSWORD = 'dJj135790'\n",
    "DATABASE_CONNECTION = f'mssql://{USERNAME}:{PASSWORD}@{SERVER}/{DATABASE}?driver={DRIVER}'\n",
    "\n",
    "engine = create_engine(DATABASE_CONNECTION)\n",
    "connection = engine.connect()"
   ]
  },
  {
   "cell_type": "code",
   "execution_count": null,
   "metadata": {},
   "outputs": [],
   "source": [
    "# Upload cleaner tweet to SQL Server\n",
    "tweet_df.to_sql(name =\"elonTweets\",con=connection,if_exists='replace',index = False)"
   ]
  }
 ],
 "metadata": {
  "kernelspec": {
   "display_name": "Python 3.10.5 64-bit",
   "language": "python",
   "name": "python3"
  },
  "language_info": {
   "codemirror_mode": {
    "name": "ipython",
    "version": 3
   },
   "file_extension": ".py",
   "mimetype": "text/x-python",
   "name": "python",
   "nbconvert_exporter": "python",
   "pygments_lexer": "ipython3",
   "version": "3.10.8"
  },
  "orig_nbformat": 4,
  "vscode": {
   "interpreter": {
    "hash": "607db476e417971f05b607c2dd14e77ee8262c2c4c20dea422522c60605a222a"
   }
  }
 },
 "nbformat": 4,
 "nbformat_minor": 2
}
