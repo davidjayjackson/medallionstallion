{
 "cells": [
  {
   "cell_type": "code",
   "execution_count": 10,
   "metadata": {},
   "outputs": [],
   "source": [
    "import pyodbc\n",
    "import pandas as pd\n",
    "from tqdm import tqdm\n",
    "import snscrape.modules.twitter as sntwitter"
   ]
  },
  {
   "cell_type": "code",
   "execution_count": null,
   "metadata": {},
   "outputs": [],
   "source": [
    "\"\"\" conn = pyodbc.connect(\n",
    "    \"Driver ={SQL Server Native Client 11.0};\"\n",
    "    \"Server = LAPTOP-QFUJTI9Q\\SQLEXPRESS;\"\n",
    "    \"Database =Twitter;\"\n",
    "    \"Trusted_Connection = yes;\"\n",
    ") \"\"\""
   ]
  },
  {
   "cell_type": "code",
   "execution_count": 11,
   "metadata": {},
   "outputs": [],
   "source": [
    "# Pull tweet in which Elon is mentioned\n",
    "scraper = sntwitter.TwitterSearchScraper(\"#elonmusk\")\n",
    "for tweet in scraper.get_items():\n",
    "    break"
   ]
  },
  {
   "cell_type": "code",
   "execution_count": 3,
   "metadata": {},
   "outputs": [],
   "source": [
    "\"\"\" # Pull tweet that Elon Posted\n",
    "scraper = sntwitter.TwitterUserScraper(\"elonmusk\")\n",
    "for tweet in scraper.get_items():\n",
    "    break \"\"\""
   ]
  },
  {
   "cell_type": "code",
   "execution_count": null,
   "metadata": {},
   "outputs": [],
   "source": [
    "tweet"
   ]
  },
  {
   "cell_type": "code",
   "execution_count": 6,
   "metadata": {},
   "outputs": [],
   "source": [
    "tweets = []"
   ]
  },
  {
   "cell_type": "markdown",
   "metadata": {},
   "source": [
    "### Pulling tweets that have Elon Mush (@elonmusk)"
   ]
  },
  {
   "cell_type": "code",
   "execution_count": 7,
   "metadata": {},
   "outputs": [],
   "source": [
    "\"\"\" \n",
    "\n",
    "for i,  tweet in enumerate(scraper.get_items()):\n",
    "        data = [\n",
    "                tweet.date,\n",
    "                tweet.id,\n",
    "                tweet.content,\n",
    "                tweet.user.username,\n",
    "                tweet.likeCount,\n",
    "                tweet.retweetCount,\n",
    "        ]\n",
    "\n",
    "        tweets.append(data)\n",
    "        if i >5000:\n",
    "                break\n",
    " \"\"\""
   ]
  },
  {
   "cell_type": "code",
   "execution_count": 12,
   "metadata": {},
   "outputs": [
    {
     "name": "stderr",
     "output_type": "stream",
     "text": [
      "5001it [07:16, 11.46it/s]                          \n"
     ]
    }
   ],
   "source": [
    "n_tweets = 5000\n",
    "for i,  tweet in tqdm(enumerate(scraper.get_items()),total=n_tweets):\n",
    "        data = [\n",
    "                tweet.date,\n",
    "                tweet.id,\n",
    "                tweet.content,\n",
    "                tweet.user.username,\n",
    "                tweet.likeCount,\n",
    "                tweet.retweetCount,\n",
    "        ]\n",
    "\n",
    "        tweets.append(data)\n",
    "        if i >n_tweets:\n",
    "                break"
   ]
  },
  {
   "cell_type": "code",
   "execution_count": 8,
   "metadata": {},
   "outputs": [
    {
     "data": {
      "text/plain": [
       "5002"
      ]
     },
     "execution_count": 8,
     "metadata": {},
     "output_type": "execute_result"
    }
   ],
   "source": [
    "len(tweets)"
   ]
  },
  {
   "cell_type": "code",
   "execution_count": 29,
   "metadata": {},
   "outputs": [],
   "source": [
    "tweet_df = pd.DataFrame(\n",
    "    tweets, columns=[\"date\",\"id\",\"content\",\"username\",\"like_count\",\"retweet_count\"]\n",
    ")"
   ]
  },
  {
   "cell_type": "code",
   "execution_count": 30,
   "metadata": {},
   "outputs": [
    {
     "data": {
      "text/html": [
       "<div>\n",
       "<style scoped>\n",
       "    .dataframe tbody tr th:only-of-type {\n",
       "        vertical-align: middle;\n",
       "    }\n",
       "\n",
       "    .dataframe tbody tr th {\n",
       "        vertical-align: top;\n",
       "    }\n",
       "\n",
       "    .dataframe thead th {\n",
       "        text-align: right;\n",
       "    }\n",
       "</style>\n",
       "<table border=\"1\" class=\"dataframe\">\n",
       "  <thead>\n",
       "    <tr style=\"text-align: right;\">\n",
       "      <th></th>\n",
       "      <th>date</th>\n",
       "      <th>id</th>\n",
       "      <th>content</th>\n",
       "      <th>username</th>\n",
       "      <th>like_count</th>\n",
       "      <th>retweet_count</th>\n",
       "    </tr>\n",
       "  </thead>\n",
       "  <tbody>\n",
       "    <tr>\n",
       "      <th>0</th>\n",
       "      <td>2022-12-01 01:30:26+00:00</td>\n",
       "      <td>1598127347932090370</td>\n",
       "      <td>Exciting Neuralink update in 30 mins! https://...</td>\n",
       "      <td>elonmusk</td>\n",
       "      <td>13135</td>\n",
       "      <td>1617</td>\n",
       "    </tr>\n",
       "    <tr>\n",
       "      <th>1</th>\n",
       "      <td>2022-12-01 00:58:39+00:00</td>\n",
       "      <td>1598119348979527682</td>\n",
       "      <td>@SawyerMerritt @woodhaus2 😉</td>\n",
       "      <td>elonmusk</td>\n",
       "      <td>5099</td>\n",
       "      <td>259</td>\n",
       "    </tr>\n",
       "    <tr>\n",
       "      <th>2</th>\n",
       "      <td>2022-11-30 23:21:50+00:00</td>\n",
       "      <td>1598094986566074368</td>\n",
       "      <td>@SawyerMerritt Congratulations @jimfarley98 @F...</td>\n",
       "      <td>elonmusk</td>\n",
       "      <td>12106</td>\n",
       "      <td>453</td>\n",
       "    </tr>\n",
       "    <tr>\n",
       "      <th>3</th>\n",
       "      <td>2022-11-30 23:05:59+00:00</td>\n",
       "      <td>1598090996281413638</td>\n",
       "      <td>Good conversation. Among other things, we reso...</td>\n",
       "      <td>elonmusk</td>\n",
       "      <td>205735</td>\n",
       "      <td>17903</td>\n",
       "    </tr>\n",
       "    <tr>\n",
       "      <th>4</th>\n",
       "      <td>2022-11-30 21:19:31+00:00</td>\n",
       "      <td>1598064202400534528</td>\n",
       "      <td>@jhall Cancel culture needs to be canceled!!</td>\n",
       "      <td>elonmusk</td>\n",
       "      <td>153051</td>\n",
       "      <td>19579</td>\n",
       "    </tr>\n",
       "    <tr>\n",
       "      <th>5</th>\n",
       "      <td>2022-11-30 20:53:34+00:00</td>\n",
       "      <td>1598057675329179649</td>\n",
       "      <td>@teslaownersSV Wow, thank you for the kind wor...</td>\n",
       "      <td>elonmusk</td>\n",
       "      <td>35685</td>\n",
       "      <td>1753</td>\n",
       "    </tr>\n",
       "    <tr>\n",
       "      <th>6</th>\n",
       "      <td>2022-11-30 20:44:44+00:00</td>\n",
       "      <td>1598055448678395905</td>\n",
       "      <td>@HistoryInPics Feels like an eternity ago</td>\n",
       "      <td>elonmusk</td>\n",
       "      <td>53009</td>\n",
       "      <td>2019</td>\n",
       "    </tr>\n",
       "    <tr>\n",
       "      <th>7</th>\n",
       "      <td>2022-11-30 20:26:14+00:00</td>\n",
       "      <td>1598050795882442752</td>\n",
       "      <td>Thanks @tim_cook for taking me around Apple’s ...</td>\n",
       "      <td>elonmusk</td>\n",
       "      <td>258135</td>\n",
       "      <td>16264</td>\n",
       "    </tr>\n",
       "    <tr>\n",
       "      <th>8</th>\n",
       "      <td>2022-11-30 17:22:12+00:00</td>\n",
       "      <td>1598004480066621441</td>\n",
       "      <td>@EvaFoxU @Reuters Exactly. The obvious reality...</td>\n",
       "      <td>elonmusk</td>\n",
       "      <td>70387</td>\n",
       "      <td>15430</td>\n",
       "    </tr>\n",
       "    <tr>\n",
       "      <th>9</th>\n",
       "      <td>2022-11-30 15:54:33+00:00</td>\n",
       "      <td>1597982424629383168</td>\n",
       "      <td>Update from @Neuralink at 6pm PT</td>\n",
       "      <td>elonmusk</td>\n",
       "      <td>93521</td>\n",
       "      <td>7940</td>\n",
       "    </tr>\n",
       "    <tr>\n",
       "      <th>10</th>\n",
       "      <td>2022-11-30 09:39:14+00:00</td>\n",
       "      <td>1597887972372021248</td>\n",
       "      <td>@NorthmanTrader @vincent13031925 Exactly</td>\n",
       "      <td>elonmusk</td>\n",
       "      <td>6631</td>\n",
       "      <td>318</td>\n",
       "    </tr>\n",
       "    <tr>\n",
       "      <th>11</th>\n",
       "      <td>2022-11-30 09:03:04+00:00</td>\n",
       "      <td>1597878869910253569</td>\n",
       "      <td>@vincent13031925 Trend is concerning. Fed need...</td>\n",
       "      <td>elonmusk</td>\n",
       "      <td>111284</td>\n",
       "      <td>12148</td>\n",
       "    </tr>\n",
       "    <tr>\n",
       "      <th>12</th>\n",
       "      <td>2022-11-30 08:40:11+00:00</td>\n",
       "      <td>1597873111470252032</td>\n",
       "      <td>@teslaownersSV Much more, but I am simply stat...</td>\n",
       "      <td>elonmusk</td>\n",
       "      <td>12066</td>\n",
       "      <td>827</td>\n",
       "    </tr>\n",
       "    <tr>\n",
       "      <th>13</th>\n",
       "      <td>2022-11-30 08:18:07+00:00</td>\n",
       "      <td>1597867558073667584</td>\n",
       "      <td>@teslaownersSV We’re implementing anti-bot bot...</td>\n",
       "      <td>elonmusk</td>\n",
       "      <td>8946</td>\n",
       "      <td>1036</td>\n",
       "    </tr>\n",
       "    <tr>\n",
       "      <th>14</th>\n",
       "      <td>2022-11-30 08:13:06+00:00</td>\n",
       "      <td>1597866295617167360</td>\n",
       "      <td>Microservices …\\n https://t.co/w6K0t1SRRs</td>\n",
       "      <td>elonmusk</td>\n",
       "      <td>32616</td>\n",
       "      <td>2409</td>\n",
       "    </tr>\n",
       "    <tr>\n",
       "      <th>15</th>\n",
       "      <td>2022-11-30 05:45:48+00:00</td>\n",
       "      <td>1597829226572705793</td>\n",
       "      <td>Twitter core services latency reduced by ~400m...</td>\n",
       "      <td>elonmusk</td>\n",
       "      <td>305798</td>\n",
       "      <td>19931</td>\n",
       "    </tr>\n",
       "    <tr>\n",
       "      <th>16</th>\n",
       "      <td>2022-11-30 05:35:09+00:00</td>\n",
       "      <td>1597826548136284162</td>\n",
       "      <td>@SwipeWright @stevenmarkryan @nichegamer 🎯</td>\n",
       "      <td>elonmusk</td>\n",
       "      <td>6664</td>\n",
       "      <td>238</td>\n",
       "    </tr>\n",
       "    <tr>\n",
       "      <th>17</th>\n",
       "      <td>2022-11-30 03:05:51+00:00</td>\n",
       "      <td>1597788973916909568</td>\n",
       "      <td>@stevenmarkryan @nichegamer Sam lost me when h...</td>\n",
       "      <td>elonmusk</td>\n",
       "      <td>8968</td>\n",
       "      <td>1211</td>\n",
       "    </tr>\n",
       "    <tr>\n",
       "      <th>18</th>\n",
       "      <td>2022-11-30 02:52:14+00:00</td>\n",
       "      <td>1597785546922737664</td>\n",
       "      <td>@farzyness Accurate prediction</td>\n",
       "      <td>elonmusk</td>\n",
       "      <td>95271</td>\n",
       "      <td>3331</td>\n",
       "    </tr>\n",
       "    <tr>\n",
       "      <th>19</th>\n",
       "      <td>2022-11-29 23:31:45+00:00</td>\n",
       "      <td>1597735092247736322</td>\n",
       "      <td>A little more progress to Mars https://t.co/TU...</td>\n",
       "      <td>elonmusk</td>\n",
       "      <td>134530</td>\n",
       "      <td>10321</td>\n",
       "    </tr>\n",
       "  </tbody>\n",
       "</table>\n",
       "</div>"
      ],
      "text/plain": [
       "                        date                   id  \\\n",
       "0  2022-12-01 01:30:26+00:00  1598127347932090370   \n",
       "1  2022-12-01 00:58:39+00:00  1598119348979527682   \n",
       "2  2022-11-30 23:21:50+00:00  1598094986566074368   \n",
       "3  2022-11-30 23:05:59+00:00  1598090996281413638   \n",
       "4  2022-11-30 21:19:31+00:00  1598064202400534528   \n",
       "5  2022-11-30 20:53:34+00:00  1598057675329179649   \n",
       "6  2022-11-30 20:44:44+00:00  1598055448678395905   \n",
       "7  2022-11-30 20:26:14+00:00  1598050795882442752   \n",
       "8  2022-11-30 17:22:12+00:00  1598004480066621441   \n",
       "9  2022-11-30 15:54:33+00:00  1597982424629383168   \n",
       "10 2022-11-30 09:39:14+00:00  1597887972372021248   \n",
       "11 2022-11-30 09:03:04+00:00  1597878869910253569   \n",
       "12 2022-11-30 08:40:11+00:00  1597873111470252032   \n",
       "13 2022-11-30 08:18:07+00:00  1597867558073667584   \n",
       "14 2022-11-30 08:13:06+00:00  1597866295617167360   \n",
       "15 2022-11-30 05:45:48+00:00  1597829226572705793   \n",
       "16 2022-11-30 05:35:09+00:00  1597826548136284162   \n",
       "17 2022-11-30 03:05:51+00:00  1597788973916909568   \n",
       "18 2022-11-30 02:52:14+00:00  1597785546922737664   \n",
       "19 2022-11-29 23:31:45+00:00  1597735092247736322   \n",
       "\n",
       "                                              content  username  like_count  \\\n",
       "0   Exciting Neuralink update in 30 mins! https://...  elonmusk       13135   \n",
       "1                         @SawyerMerritt @woodhaus2 😉  elonmusk        5099   \n",
       "2   @SawyerMerritt Congratulations @jimfarley98 @F...  elonmusk       12106   \n",
       "3   Good conversation. Among other things, we reso...  elonmusk      205735   \n",
       "4        @jhall Cancel culture needs to be canceled!!  elonmusk      153051   \n",
       "5   @teslaownersSV Wow, thank you for the kind wor...  elonmusk       35685   \n",
       "6           @HistoryInPics Feels like an eternity ago  elonmusk       53009   \n",
       "7   Thanks @tim_cook for taking me around Apple’s ...  elonmusk      258135   \n",
       "8   @EvaFoxU @Reuters Exactly. The obvious reality...  elonmusk       70387   \n",
       "9                    Update from @Neuralink at 6pm PT  elonmusk       93521   \n",
       "10           @NorthmanTrader @vincent13031925 Exactly  elonmusk        6631   \n",
       "11  @vincent13031925 Trend is concerning. Fed need...  elonmusk      111284   \n",
       "12  @teslaownersSV Much more, but I am simply stat...  elonmusk       12066   \n",
       "13  @teslaownersSV We’re implementing anti-bot bot...  elonmusk        8946   \n",
       "14          Microservices …\\n https://t.co/w6K0t1SRRs  elonmusk       32616   \n",
       "15  Twitter core services latency reduced by ~400m...  elonmusk      305798   \n",
       "16         @SwipeWright @stevenmarkryan @nichegamer 🎯  elonmusk        6664   \n",
       "17  @stevenmarkryan @nichegamer Sam lost me when h...  elonmusk        8968   \n",
       "18                     @farzyness Accurate prediction  elonmusk       95271   \n",
       "19  A little more progress to Mars https://t.co/TU...  elonmusk      134530   \n",
       "\n",
       "    retweet_count  \n",
       "0            1617  \n",
       "1             259  \n",
       "2             453  \n",
       "3           17903  \n",
       "4           19579  \n",
       "5            1753  \n",
       "6            2019  \n",
       "7           16264  \n",
       "8           15430  \n",
       "9            7940  \n",
       "10            318  \n",
       "11          12148  \n",
       "12            827  \n",
       "13           1036  \n",
       "14           2409  \n",
       "15          19931  \n",
       "16            238  \n",
       "17           1211  \n",
       "18           3331  \n",
       "19          10321  "
      ]
     },
     "execution_count": 30,
     "metadata": {},
     "output_type": "execute_result"
    }
   ],
   "source": [
    "tweet_df.head(20)"
   ]
  },
  {
   "cell_type": "markdown",
   "metadata": {},
   "source": [
    "#### Begin MS SQL Server Fun"
   ]
  },
  {
   "cell_type": "code",
   "execution_count": null,
   "metadata": {},
   "outputs": [],
   "source": [
    "# Pull tweet that Elon Posted\n",
    "scraper = sntwitter.TwitterUserScraper(\"elonmusk\")\n",
    "for tweet in scraper.get_items():\n",
    "    break"
   ]
  },
  {
   "cell_type": "code",
   "execution_count": 31,
   "metadata": {},
   "outputs": [],
   "source": [
    "conn = sqlite3.connect('./webscrape.sqlite3')\n",
    "## cursor = conn.cursor()"
   ]
  },
  {
   "cell_type": "code",
   "execution_count": 32,
   "metadata": {},
   "outputs": [
    {
     "data": {
      "text/plain": [
       "5002"
      ]
     },
     "execution_count": 32,
     "metadata": {},
     "output_type": "execute_result"
    }
   ],
   "source": [
    "tweet_df.to_sql(name =\"elonTweets\",con=conn,if_exists='replace',index = False)"
   ]
  },
  {
   "cell_type": "code",
   "execution_count": 33,
   "metadata": {},
   "outputs": [],
   "source": [
    "tweet_df.to_csv(\"./elonTweets.csv\")"
   ]
  },
  {
   "cell_type": "markdown",
   "metadata": {},
   "source": [
    "import pyodbc"
   ]
  }
 ],
 "metadata": {
  "kernelspec": {
   "display_name": "Python 3.10.5 64-bit",
   "language": "python",
   "name": "python3"
  },
  "language_info": {
   "codemirror_mode": {
    "name": "ipython",
    "version": 3
   },
   "file_extension": ".py",
   "mimetype": "text/x-python",
   "name": "python",
   "nbconvert_exporter": "python",
   "pygments_lexer": "ipython3",
   "version": "3.10.8"
  },
  "orig_nbformat": 4,
  "vscode": {
   "interpreter": {
    "hash": "607db476e417971f05b607c2dd14e77ee8262c2c4c20dea422522c60605a222a"
   }
  }
 },
 "nbformat": 4,
 "nbformat_minor": 2
}
