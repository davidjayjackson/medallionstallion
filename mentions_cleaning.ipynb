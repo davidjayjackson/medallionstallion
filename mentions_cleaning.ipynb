{
 "cells": [
  {
   "cell_type": "code",
   "execution_count": 1,
   "metadata": {},
   "outputs": [],
   "source": [
    "import pandas as pd\n",
    "from tqdm  import tqdm\n",
    "import sqlite3\n",
    "import nltk\n",
    "import seaborn as sea\n",
    "import string"
   ]
  },
  {
   "cell_type": "code",
   "execution_count": 2,
   "metadata": {},
   "outputs": [],
   "source": [
    "conn = sqlite3.connect('./webscrape.sqlite3')"
   ]
  },
  {
   "cell_type": "code",
   "execution_count": 3,
   "metadata": {},
   "outputs": [],
   "source": [
    "elon_mentions = pd.read_sql_query('select * from elonMentions', conn)"
   ]
  },
  {
   "cell_type": "code",
   "execution_count": null,
   "metadata": {},
   "outputs": [],
   "source": [
    "elon_mentions.head()"
   ]
  },
  {
   "cell_type": "markdown",
   "metadata": {},
   "source": [
    "#### Begin Data Cleaning and Stop Words Removal\n"
   ]
  },
  {
   "cell_type": "code",
   "execution_count": 5,
   "metadata": {},
   "outputs": [],
   "source": [
    "elon_mentions['content'] = elon_mentions['content'].str.lower()\n",
    "elon_mentions['username'] = elon_mentions['username'].str.lower()\n",
    "## Remove stop words\n",
    "\n",
    "\n"
   ]
  },
  {
   "cell_type": "code",
   "execution_count": 6,
   "metadata": {},
   "outputs": [],
   "source": [
    "# nltk.download('stopwords')\n",
    "from nltk.corpus import stopwords\n",
    "\",\".join(stopwords.words('english'))\n",
    "stop_words = set(stopwords.words('english'))\n"
   ]
  },
  {
   "cell_type": "code",
   "execution_count": 7,
   "metadata": {},
   "outputs": [],
   "source": [
    "def remove_stop(x):\n",
    "    return \",\".join([word for word in str(x).split() if word not in stop_words])\n",
    "elon_mentions['content'] = elon_mentions['content'].apply(lambda x: remove_stop(x))\n"
   ]
  },
  {
   "cell_type": "code",
   "execution_count": 8,
   "metadata": {},
   "outputs": [
    {
     "data": {
      "text/plain": [
       "0    11/30/2022,#comingtoamerica,age,40,#princewill...\n",
       "1    #timcook,dogwalked,#elonmusk,around,@apple,cam...\n",
       "2    @elonmusk,make,twitter,great,again!!!,😍😍😍,#twi...\n",
       "3    @dcenquirer,@dineshdsouza,became,clear,twitter...\n",
       "4    elon,musk,makes,final,push,end,...,https://t.c...\n",
       "5    i've,considered,best,ideas,speed,growth,projec...\n",
       "6    @goingparabolic,uh,oh.,1),here?,#sbf_ftx,#elon...\n",
       "7    @againrachelle,,...again,,thanks,to...,(novemb...\n",
       "8    #elonmusk,donated,.001%,$246,billion,fortune.,...\n",
       "9    elon,musk,stated,publicly,,twitter,interfered,...\n",
       "Name: content, dtype: object"
      ]
     },
     "execution_count": 8,
     "metadata": {},
     "output_type": "execute_result"
    }
   ],
   "source": [
    "elon_mentions['content'].head(10)"
   ]
  },
  {
   "cell_type": "markdown",
   "metadata": {},
   "source": [
    "### Remove Punction marks"
   ]
  },
  {
   "cell_type": "code",
   "execution_count": 9,
   "metadata": {},
   "outputs": [],
   "source": [
    "punct = string.punctuation\n",
    "def remove_punct(x):\n",
    "    return x.translate(str.maketrans(\"\",\"\", punct))\n",
    "\n",
    "    elon_mentions['content'] = elon_mentions['content'].apply(lambda x: remove_punct(x))\n"
   ]
  },
  {
   "cell_type": "code",
   "execution_count": 10,
   "metadata": {},
   "outputs": [
    {
     "data": {
      "text/html": [
       "<div>\n",
       "<style scoped>\n",
       "    .dataframe tbody tr th:only-of-type {\n",
       "        vertical-align: middle;\n",
       "    }\n",
       "\n",
       "    .dataframe tbody tr th {\n",
       "        vertical-align: top;\n",
       "    }\n",
       "\n",
       "    .dataframe thead th {\n",
       "        text-align: right;\n",
       "    }\n",
       "</style>\n",
       "<table border=\"1\" class=\"dataframe\">\n",
       "  <thead>\n",
       "    <tr style=\"text-align: right;\">\n",
       "      <th></th>\n",
       "      <th>date</th>\n",
       "      <th>id</th>\n",
       "      <th>content</th>\n",
       "      <th>username</th>\n",
       "      <th>like_count</th>\n",
       "      <th>retweet_count</th>\n",
       "    </tr>\n",
       "  </thead>\n",
       "  <tbody>\n",
       "    <tr>\n",
       "      <th>0</th>\n",
       "      <td>2022-12-01</td>\n",
       "      <td>1598455615310946312</td>\n",
       "      <td>11/30/2022,#comingtoamerica,age,40,#princewill...</td>\n",
       "      <td>daansahonsports</td>\n",
       "      <td>0</td>\n",
       "      <td>0</td>\n",
       "    </tr>\n",
       "    <tr>\n",
       "      <th>1</th>\n",
       "      <td>2022-12-01</td>\n",
       "      <td>1598455473182806016</td>\n",
       "      <td>#timcook,dogwalked,#elonmusk,around,@apple,cam...</td>\n",
       "      <td>snowronin</td>\n",
       "      <td>0</td>\n",
       "      <td>0</td>\n",
       "    </tr>\n",
       "    <tr>\n",
       "      <th>2</th>\n",
       "      <td>2022-12-01</td>\n",
       "      <td>1598455472591613953</td>\n",
       "      <td>@elonmusk,make,twitter,great,again!!!,😍😍😍,#twi...</td>\n",
       "      <td>m__mzhr</td>\n",
       "      <td>1</td>\n",
       "      <td>0</td>\n",
       "    </tr>\n",
       "    <tr>\n",
       "      <th>3</th>\n",
       "      <td>2022-12-01</td>\n",
       "      <td>1598455432468725761</td>\n",
       "      <td>@dcenquirer,@dineshdsouza,became,clear,twitter...</td>\n",
       "      <td>rwcnysp</td>\n",
       "      <td>0</td>\n",
       "      <td>0</td>\n",
       "    </tr>\n",
       "    <tr>\n",
       "      <th>4</th>\n",
       "      <td>2022-12-01</td>\n",
       "      <td>1598455410704482304</td>\n",
       "      <td>elon,musk,makes,final,push,end,...,https://t.c...</td>\n",
       "      <td>bocvip</td>\n",
       "      <td>1</td>\n",
       "      <td>0</td>\n",
       "    </tr>\n",
       "  </tbody>\n",
       "</table>\n",
       "</div>"
      ],
      "text/plain": [
       "         date                   id  \\\n",
       "0  2022-12-01  1598455615310946312   \n",
       "1  2022-12-01  1598455473182806016   \n",
       "2  2022-12-01  1598455472591613953   \n",
       "3  2022-12-01  1598455432468725761   \n",
       "4  2022-12-01  1598455410704482304   \n",
       "\n",
       "                                             content         username  \\\n",
       "0  11/30/2022,#comingtoamerica,age,40,#princewill...  daansahonsports   \n",
       "1  #timcook,dogwalked,#elonmusk,around,@apple,cam...        snowronin   \n",
       "2  @elonmusk,make,twitter,great,again!!!,😍😍😍,#twi...          m__mzhr   \n",
       "3  @dcenquirer,@dineshdsouza,became,clear,twitter...          rwcnysp   \n",
       "4  elon,musk,makes,final,push,end,...,https://t.c...           bocvip   \n",
       "\n",
       "   like_count  retweet_count  \n",
       "0           0              0  \n",
       "1           0              0  \n",
       "2           1              0  \n",
       "3           0              0  \n",
       "4           1              0  "
      ]
     },
     "execution_count": 10,
     "metadata": {},
     "output_type": "execute_result"
    }
   ],
   "source": [
    "elon_mentions.head()"
   ]
  },
  {
   "cell_type": "markdown",
   "metadata": {},
   "source": [
    "### Create WordCloud"
   ]
  },
  {
   "cell_type": "code",
   "execution_count": 3,
   "metadata": {},
   "outputs": [],
   "source": [
    "import matplotlib.pyplot as plt\n",
    "from wordcloud import WordCloud,STOPWORDS\n",
    "stopwords = STOPWORDS"
   ]
  },
  {
   "cell_type": "code",
   "execution_count": 12,
   "metadata": {},
   "outputs": [],
   "source": [
    "\"\"\" wc = WordCloud(\n",
    "    background_color='white',\n",
    "    stopwords=stopwords,\n",
    "    height=600,\n",
    "    width = 400\n",
    ")\n",
    "\n",
    "text = elon_mentions['content'] \"\"\""
   ]
  },
  {
   "cell_type": "code",
   "execution_count": null,
   "metadata": {},
   "outputs": [],
   "source": [
    "# wc.generate(text)"
   ]
  },
  {
   "cell_type": "markdown",
   "metadata": {},
   "source": [
    "## Write cleaned data to SQLite2"
   ]
  },
  {
   "cell_type": "code",
   "execution_count": 13,
   "metadata": {},
   "outputs": [
    {
     "data": {
      "text/plain": [
       "25002"
      ]
     },
     "execution_count": 13,
     "metadata": {},
     "output_type": "execute_result"
    }
   ],
   "source": [
    "elon_mentions.to_sql(name =\"elonMentions\",con=conn,if_exists='replace',index = False)"
   ]
  }
 ],
 "metadata": {
  "kernelspec": {
   "display_name": "Python 3.10.8 64-bit",
   "language": "python",
   "name": "python3"
  },
  "language_info": {
   "codemirror_mode": {
    "name": "ipython",
    "version": 3
   },
   "file_extension": ".py",
   "mimetype": "text/x-python",
   "name": "python",
   "nbconvert_exporter": "python",
   "pygments_lexer": "ipython3",
   "version": "3.10.8"
  },
  "orig_nbformat": 4,
  "vscode": {
   "interpreter": {
    "hash": "607db476e417971f05b607c2dd14e77ee8262c2c4c20dea422522c60605a222a"
   }
  }
 },
 "nbformat": 4,
 "nbformat_minor": 2
}
